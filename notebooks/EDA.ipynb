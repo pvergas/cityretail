{
 "cells": [
  {
   "cell_type": "code",
   "execution_count": 1,
   "id": "5c9a28ee",
   "metadata": {},
   "outputs": [
    {
     "name": "stdout",
     "output_type": "stream",
     "text": [
      "RAW_DATA_PATH = c:\\Users\\panos\\Desktop\\Data Engineering\\Project\\cityretail\\data\\raw\n"
     ]
    }
   ],
   "source": [
    "import pandas as pd\n",
    "import sys\n",
    "import os\n",
    "sys.path.append(os.path.abspath(\"..\"))\n",
    "import seaborn as sns\n",
    "import matplotlib.pyplot as plt\n",
    "from src.config import RAW_DATA_PATH\n",
    "from src.load_raw_data import load_raw_datasets\n",
    "print(\"RAW_DATA_PATH =\", RAW_DATA_PATH)"
   ]
  },
  {
   "cell_type": "markdown",
   "id": "e9891143",
   "metadata": {},
   "source": [
    "## Load Raw Data"
   ]
  },
  {
   "cell_type": "code",
   "execution_count": 2,
   "id": "38f6e127",
   "metadata": {},
   "outputs": [
    {
     "name": "stderr",
     "output_type": "stream",
     "text": [
      "2025-07-16 12:19:51,593 [INFO] Loaded 'calendar' (365 rows, 7 columns)\n",
      "2025-07-16 12:19:51,596 [INFO] Loaded 'cities_lookup' (10 rows, 2 columns)\n"
     ]
    },
    {
     "name": "stderr",
     "output_type": "stream",
     "text": [
      "2025-07-16 12:19:51,599 [INFO] Loaded 'products' (20 rows, 6 columns)\n",
      "2025-07-16 12:19:51,606 [INFO] Loaded 'sales' (5000 rows, 6 columns)\n",
      "2025-07-16 12:19:51,608 [INFO] Loaded 'stores' (10 rows, 4 columns)\n"
     ]
    }
   ],
   "source": [
    "# Load datasets using the environment-aware path\n",
    "dfs = load_raw_datasets(RAW_DATA_PATH)\n",
    "calendar = dfs[\"calendar\"]\n",
    "cities_lookup = dfs[\"cities_lookup\"]\n",
    "products = dfs[\"products\"]\n",
    "sales = dfs[\"sales\"]\n",
    "stores = dfs[\"stores\"]"
   ]
  },
  {
   "cell_type": "markdown",
   "id": "9c5f8d99",
   "metadata": {},
   "source": [
    "## Inspection"
   ]
  },
  {
   "cell_type": "code",
   "execution_count": 3,
   "id": "e5693fe4",
   "metadata": {},
   "outputs": [
    {
     "name": "stdout",
     "output_type": "stream",
     "text": [
      "\n",
      "Inspecting CALENDAR\n",
      "------------------------------------------------------------\n",
      "Shape: (365, 7)\n",
      "Columns: ['DateID', 'Date', 'Year', 'Quarter', 'Month', 'Day', 'Weekday']\n",
      "Column Types:\n",
      " DateID      int64\n",
      "Date       object\n",
      "Year        int64\n",
      "Quarter     int64\n",
      "Month       int64\n",
      "Day         int64\n",
      "Weekday    object\n",
      "dtype: object\n",
      "\n",
      "Missing Values:\n",
      " DateID     0\n",
      "Date       0\n",
      "Year       0\n",
      "Quarter    0\n",
      "Month      0\n",
      "Day        0\n",
      "Weekday    0\n",
      "dtype: int64\n",
      "Hidden Nulls (blanks, 'NaN', 'NULL'):\n",
      "\n",
      "Duplicate Rows: 0\n"
     ]
    },
    {
     "data": {
      "text/html": [
       "<div>\n",
       "<style scoped>\n",
       "    .dataframe tbody tr th:only-of-type {\n",
       "        vertical-align: middle;\n",
       "    }\n",
       "\n",
       "    .dataframe tbody tr th {\n",
       "        vertical-align: top;\n",
       "    }\n",
       "\n",
       "    .dataframe thead th {\n",
       "        text-align: right;\n",
       "    }\n",
       "</style>\n",
       "<table border=\"1\" class=\"dataframe\">\n",
       "  <thead>\n",
       "    <tr style=\"text-align: right;\">\n",
       "      <th></th>\n",
       "      <th>DateID</th>\n",
       "      <th>Date</th>\n",
       "      <th>Year</th>\n",
       "      <th>Quarter</th>\n",
       "      <th>Month</th>\n",
       "      <th>Day</th>\n",
       "      <th>Weekday</th>\n",
       "    </tr>\n",
       "  </thead>\n",
       "  <tbody>\n",
       "    <tr>\n",
       "      <th>0</th>\n",
       "      <td>1</td>\n",
       "      <td>2024-01-01</td>\n",
       "      <td>2024</td>\n",
       "      <td>1</td>\n",
       "      <td>1</td>\n",
       "      <td>1</td>\n",
       "      <td>Monday</td>\n",
       "    </tr>\n",
       "    <tr>\n",
       "      <th>1</th>\n",
       "      <td>2</td>\n",
       "      <td>2024-01-02</td>\n",
       "      <td>2024</td>\n",
       "      <td>1</td>\n",
       "      <td>1</td>\n",
       "      <td>2</td>\n",
       "      <td>Tuesday</td>\n",
       "    </tr>\n",
       "    <tr>\n",
       "      <th>2</th>\n",
       "      <td>3</td>\n",
       "      <td>2024-01-03</td>\n",
       "      <td>2024</td>\n",
       "      <td>1</td>\n",
       "      <td>1</td>\n",
       "      <td>3</td>\n",
       "      <td>Wednesday</td>\n",
       "    </tr>\n",
       "  </tbody>\n",
       "</table>\n",
       "</div>"
      ],
      "text/plain": [
       "   DateID        Date  Year  Quarter  Month  Day    Weekday\n",
       "0       1  2024-01-01  2024        1      1    1     Monday\n",
       "1       2  2024-01-02  2024        1      1    2    Tuesday\n",
       "2       3  2024-01-03  2024        1      1    3  Wednesday"
      ]
     },
     "metadata": {},
     "output_type": "display_data"
    },
    {
     "name": "stdout",
     "output_type": "stream",
     "text": [
      "\n",
      "Inspecting CITIES_LOOKUP\n",
      "------------------------------------------------------------\n",
      "Shape: (10, 2)\n",
      "Columns: ['RawCity', 'StandardCity']\n",
      "Column Types:\n",
      " RawCity         object\n",
      "StandardCity    object\n",
      "dtype: object\n",
      "\n",
      "Missing Values:\n",
      " RawCity         0\n",
      "StandardCity    0\n",
      "dtype: int64\n",
      "Hidden Nulls (blanks, 'NaN', 'NULL'):\n",
      "\n",
      "Duplicate Rows: 0\n"
     ]
    },
    {
     "data": {
      "text/html": [
       "<div>\n",
       "<style scoped>\n",
       "    .dataframe tbody tr th:only-of-type {\n",
       "        vertical-align: middle;\n",
       "    }\n",
       "\n",
       "    .dataframe tbody tr th {\n",
       "        vertical-align: top;\n",
       "    }\n",
       "\n",
       "    .dataframe thead th {\n",
       "        text-align: right;\n",
       "    }\n",
       "</style>\n",
       "<table border=\"1\" class=\"dataframe\">\n",
       "  <thead>\n",
       "    <tr style=\"text-align: right;\">\n",
       "      <th></th>\n",
       "      <th>RawCity</th>\n",
       "      <th>StandardCity</th>\n",
       "    </tr>\n",
       "  </thead>\n",
       "  <tbody>\n",
       "    <tr>\n",
       "      <th>0</th>\n",
       "      <td>Athens</td>\n",
       "      <td>Athens</td>\n",
       "    </tr>\n",
       "    <tr>\n",
       "      <th>1</th>\n",
       "      <td>Athns</td>\n",
       "      <td>Athens</td>\n",
       "    </tr>\n",
       "    <tr>\n",
       "      <th>2</th>\n",
       "      <td>Thessaloniki</td>\n",
       "      <td>Thessaloniki</td>\n",
       "    </tr>\n",
       "  </tbody>\n",
       "</table>\n",
       "</div>"
      ],
      "text/plain": [
       "        RawCity  StandardCity\n",
       "0        Athens        Athens\n",
       "1         Athns        Athens\n",
       "2  Thessaloniki  Thessaloniki"
      ]
     },
     "metadata": {},
     "output_type": "display_data"
    },
    {
     "name": "stdout",
     "output_type": "stream",
     "text": [
      "\n",
      "Inspecting PRODUCTS\n",
      "------------------------------------------------------------\n",
      "Shape: (20, 6)\n",
      "Columns: ['ProductID', 'ProductName', 'Category', 'Subcategory', 'CostPrice', 'SalePrice']\n",
      "Column Types:\n",
      " ProductID        int64\n",
      "ProductName     object\n",
      "Category        object\n",
      "Subcategory     object\n",
      "CostPrice      float64\n",
      "SalePrice      float64\n",
      "dtype: object\n",
      "\n",
      "Missing Values:\n",
      " ProductID      0\n",
      "ProductName    0\n",
      "Category       0\n",
      "Subcategory    0\n",
      "CostPrice      0\n",
      "SalePrice      0\n",
      "dtype: int64\n",
      "Hidden Nulls (blanks, 'NaN', 'NULL'):\n",
      "\n",
      "Duplicate Rows: 0\n"
     ]
    },
    {
     "data": {
      "text/html": [
       "<div>\n",
       "<style scoped>\n",
       "    .dataframe tbody tr th:only-of-type {\n",
       "        vertical-align: middle;\n",
       "    }\n",
       "\n",
       "    .dataframe tbody tr th {\n",
       "        vertical-align: top;\n",
       "    }\n",
       "\n",
       "    .dataframe thead th {\n",
       "        text-align: right;\n",
       "    }\n",
       "</style>\n",
       "<table border=\"1\" class=\"dataframe\">\n",
       "  <thead>\n",
       "    <tr style=\"text-align: right;\">\n",
       "      <th></th>\n",
       "      <th>ProductID</th>\n",
       "      <th>ProductName</th>\n",
       "      <th>Category</th>\n",
       "      <th>Subcategory</th>\n",
       "      <th>CostPrice</th>\n",
       "      <th>SalePrice</th>\n",
       "    </tr>\n",
       "  </thead>\n",
       "  <tbody>\n",
       "    <tr>\n",
       "      <th>0</th>\n",
       "      <td>1001</td>\n",
       "      <td>Product_1</td>\n",
       "      <td>Dairy</td>\n",
       "      <td>Medium</td>\n",
       "      <td>16.03</td>\n",
       "      <td>25.61</td>\n",
       "    </tr>\n",
       "    <tr>\n",
       "      <th>1</th>\n",
       "      <td>1002</td>\n",
       "      <td>Product_2</td>\n",
       "      <td>Household</td>\n",
       "      <td>Low</td>\n",
       "      <td>5.19</td>\n",
       "      <td>7.20</td>\n",
       "    </tr>\n",
       "    <tr>\n",
       "      <th>2</th>\n",
       "      <td>1003</td>\n",
       "      <td>Product_3</td>\n",
       "      <td>Beverages</td>\n",
       "      <td>Medium</td>\n",
       "      <td>11.01</td>\n",
       "      <td>16.65</td>\n",
       "    </tr>\n",
       "  </tbody>\n",
       "</table>\n",
       "</div>"
      ],
      "text/plain": [
       "   ProductID ProductName   Category Subcategory  CostPrice  SalePrice\n",
       "0       1001   Product_1      Dairy      Medium      16.03      25.61\n",
       "1       1002   Product_2  Household         Low       5.19       7.20\n",
       "2       1003   Product_3  Beverages      Medium      11.01      16.65"
      ]
     },
     "metadata": {},
     "output_type": "display_data"
    },
    {
     "name": "stdout",
     "output_type": "stream",
     "text": [
      "\n",
      "Inspecting SALES\n",
      "------------------------------------------------------------\n",
      "Shape: (5000, 6)\n",
      "Columns: ['SalesID', 'DateID', 'ProductID', 'StoreID', 'QtySold', 'Revenue']\n",
      "Column Types:\n",
      " SalesID        int64\n",
      "DateID         int64\n",
      "ProductID      int64\n",
      "StoreID        int64\n",
      "QtySold        int64\n",
      "Revenue      float64\n",
      "dtype: object\n",
      "\n",
      "Missing Values:\n",
      " SalesID      0\n",
      "DateID       0\n",
      "ProductID    0\n",
      "StoreID      0\n",
      "QtySold      0\n",
      "Revenue      0\n",
      "dtype: int64\n",
      "Hidden Nulls (blanks, 'NaN', 'NULL'):\n",
      "\n",
      "Duplicate Rows: 0\n"
     ]
    },
    {
     "data": {
      "text/html": [
       "<div>\n",
       "<style scoped>\n",
       "    .dataframe tbody tr th:only-of-type {\n",
       "        vertical-align: middle;\n",
       "    }\n",
       "\n",
       "    .dataframe tbody tr th {\n",
       "        vertical-align: top;\n",
       "    }\n",
       "\n",
       "    .dataframe thead th {\n",
       "        text-align: right;\n",
       "    }\n",
       "</style>\n",
       "<table border=\"1\" class=\"dataframe\">\n",
       "  <thead>\n",
       "    <tr style=\"text-align: right;\">\n",
       "      <th></th>\n",
       "      <th>SalesID</th>\n",
       "      <th>DateID</th>\n",
       "      <th>ProductID</th>\n",
       "      <th>StoreID</th>\n",
       "      <th>QtySold</th>\n",
       "      <th>Revenue</th>\n",
       "    </tr>\n",
       "  </thead>\n",
       "  <tbody>\n",
       "    <tr>\n",
       "      <th>0</th>\n",
       "      <td>1</td>\n",
       "      <td>125</td>\n",
       "      <td>1015</td>\n",
       "      <td>208</td>\n",
       "      <td>3</td>\n",
       "      <td>40.35</td>\n",
       "    </tr>\n",
       "    <tr>\n",
       "      <th>1</th>\n",
       "      <td>2</td>\n",
       "      <td>71</td>\n",
       "      <td>1014</td>\n",
       "      <td>208</td>\n",
       "      <td>4</td>\n",
       "      <td>69.52</td>\n",
       "    </tr>\n",
       "    <tr>\n",
       "      <th>2</th>\n",
       "      <td>3</td>\n",
       "      <td>209</td>\n",
       "      <td>1011</td>\n",
       "      <td>203</td>\n",
       "      <td>2</td>\n",
       "      <td>57.72</td>\n",
       "    </tr>\n",
       "  </tbody>\n",
       "</table>\n",
       "</div>"
      ],
      "text/plain": [
       "   SalesID  DateID  ProductID  StoreID  QtySold  Revenue\n",
       "0        1     125       1015      208        3    40.35\n",
       "1        2      71       1014      208        4    69.52\n",
       "2        3     209       1011      203        2    57.72"
      ]
     },
     "metadata": {},
     "output_type": "display_data"
    },
    {
     "name": "stdout",
     "output_type": "stream",
     "text": [
      "\n",
      "Inspecting STORES\n",
      "------------------------------------------------------------\n",
      "Shape: (10, 4)\n",
      "Columns: ['StoreID', 'StoreName', 'City', 'Region']\n",
      "Column Types:\n",
      " StoreID       int64\n",
      "StoreName    object\n",
      "City         object\n",
      "Region       object\n",
      "dtype: object\n",
      "\n",
      "Missing Values:\n",
      " StoreID      0\n",
      "StoreName    0\n",
      "City         0\n",
      "Region       0\n",
      "dtype: int64\n",
      "Hidden Nulls (blanks, 'NaN', 'NULL'):\n",
      "\n",
      "Duplicate Rows: 0\n"
     ]
    },
    {
     "data": {
      "text/html": [
       "<div>\n",
       "<style scoped>\n",
       "    .dataframe tbody tr th:only-of-type {\n",
       "        vertical-align: middle;\n",
       "    }\n",
       "\n",
       "    .dataframe tbody tr th {\n",
       "        vertical-align: top;\n",
       "    }\n",
       "\n",
       "    .dataframe thead th {\n",
       "        text-align: right;\n",
       "    }\n",
       "</style>\n",
       "<table border=\"1\" class=\"dataframe\">\n",
       "  <thead>\n",
       "    <tr style=\"text-align: right;\">\n",
       "      <th></th>\n",
       "      <th>StoreID</th>\n",
       "      <th>StoreName</th>\n",
       "      <th>City</th>\n",
       "      <th>Region</th>\n",
       "    </tr>\n",
       "  </thead>\n",
       "  <tbody>\n",
       "    <tr>\n",
       "      <th>0</th>\n",
       "      <td>201</td>\n",
       "      <td>Store_1</td>\n",
       "      <td>Heraklion</td>\n",
       "      <td>Crete</td>\n",
       "    </tr>\n",
       "    <tr>\n",
       "      <th>1</th>\n",
       "      <td>202</td>\n",
       "      <td>Store_2</td>\n",
       "      <td>Larissa</td>\n",
       "      <td>Thessaly</td>\n",
       "    </tr>\n",
       "    <tr>\n",
       "      <th>2</th>\n",
       "      <td>203</td>\n",
       "      <td>Store_3</td>\n",
       "      <td>Athens</td>\n",
       "      <td>Attica</td>\n",
       "    </tr>\n",
       "  </tbody>\n",
       "</table>\n",
       "</div>"
      ],
      "text/plain": [
       "   StoreID StoreName       City    Region\n",
       "0      201   Store_1  Heraklion     Crete\n",
       "1      202   Store_2    Larissa  Thessaly\n",
       "2      203   Store_3     Athens    Attica"
      ]
     },
     "metadata": {},
     "output_type": "display_data"
    }
   ],
   "source": [
    "def deep_inspect(df, name):\n",
    "    \"\"\"\n",
    "    Print a comprehensive inspection report of a DataFrame.\n",
    "    - Shape and column names\n",
    "    - Data types\n",
    "    - Missing values and hidden nulls\n",
    "    - Duplicate rows\n",
    "    - Sample records\n",
    "    \"\"\"\n",
    "    print(f\"\\nInspecting {name.upper()}\")\n",
    "    print(\"-\" * 60)\n",
    "    print(\"Shape:\", df.shape)  # Print number of rows and columns\n",
    "    print(\"Columns:\", df.columns.tolist())  # List of column names\n",
    "    print(\"Column Types:\\n\", df.dtypes)  # Data types of each column\n",
    "    print(\"\\nMissing Values:\\n\", df.isnull().sum())  # Count of true nulls (NaNs)\n",
    "\n",
    "    # Check for hidden nulls represented as blank strings or placeholders\n",
    "    print(\"Hidden Nulls (blanks, 'NaN', 'NULL'):\")\n",
    "    for col in df.columns:\n",
    "        hidden_nulls = df[col].astype(str).str.strip().isin([\"\", \"NaN\", \"NULL\"]).sum()\n",
    "        if hidden_nulls > 0:\n",
    "            print(f\"  - {col}: {hidden_nulls}\")\n",
    "\n",
    "    print(\"\\nDuplicate Rows:\", df.duplicated().sum())  # Count duplicate rows\n",
    "    display(df.head(3))  # Show sample data\n",
    "\n",
    "# Loop through each DataFrame and run inspection\n",
    "for name, df in dfs.items():\n",
    "    deep_inspect(df, name)"
   ]
  },
  {
   "cell_type": "markdown",
   "id": "1f879f23",
   "metadata": {},
   "source": [
    "## Check City Name Consistency"
   ]
  },
  {
   "cell_type": "code",
   "execution_count": 4,
   "id": "8481974d",
   "metadata": {},
   "outputs": [
    {
     "name": "stdout",
     "output_type": "stream",
     "text": [
      "\n",
      "City Name Consistency Check\n",
      "All city names are consistent with the lookup.\n"
     ]
    }
   ],
   "source": [
    "def check_city_consistency(stores_df, lookup_df):\n",
    "    \"\"\"\n",
    "    Compare city names in stores with cities_lookup to find mismatches.\n",
    "    This helps ensure cities used in stores.csv match standard city names.\n",
    "    \"\"\"\n",
    "    # Normalize city names by stripping whitespace and converting to lowercase\n",
    "    store_cities = set(stores_df['City'].str.strip().str.lower())\n",
    "    valid_cities = set(lookup_df['RawCity'].str.strip().str.lower())\n",
    "\n",
    "    # Identify inconsistent city names not found in lookup\n",
    "    inconsistent = store_cities - valid_cities\n",
    "\n",
    "    print(\"\\nCity Name Consistency Check\")\n",
    "    if inconsistent:\n",
    "        print(\"Inconsistent city names found:\")\n",
    "        for city in inconsistent:\n",
    "            print(\"-\", city)\n",
    "    else:\n",
    "        print(\"All city names are consistent with the lookup.\")\n",
    "\n",
    "    return inconsistent\n",
    "\n",
    "inconsistent_cities = check_city_consistency(stores, cities_lookup)"
   ]
  },
  {
   "cell_type": "code",
   "execution_count": 5,
   "id": "ff1d5cbf",
   "metadata": {},
   "outputs": [
    {
     "name": "stdout",
     "output_type": "stream",
     "text": [
      "Index(['StoreID', 'StoreName', 'City', 'Region'], dtype='object')\n"
     ]
    }
   ],
   "source": [
    "print(stores.columns)"
   ]
  },
  {
   "cell_type": "markdown",
   "id": "5e6bd1c1",
   "metadata": {},
   "source": [
    "## Stores per City — Bar Chart"
   ]
  },
  {
   "cell_type": "code",
   "execution_count": 6,
   "id": "f8a648ca",
   "metadata": {},
   "outputs": [
    {
     "data": {
      "image/png": "[encoded data removed]",
      "text/plain": [
       "<Figure size 800x500 with 1 Axes>"
      ]
     },
     "metadata": {},
     "output_type": "display_data"
    }
   ],
   "source": [
    "import matplotlib.pyplot as plt\n",
    "import seaborn as sns\n",
    "\n",
    "# Group by city and sum revenue\n",
    "sales_with_city = pd.merge(sales, stores[['StoreID', 'City']], on='StoreID', how='left')\n",
    "revenue_by_city = sales_with_city.groupby('City')['Revenue'].sum().sort_values(ascending=False)\n",
    "\n",
    "# Plot total revenue per city\n",
    "plt.figure(figsize=(8, 5))\n",
    "revenue_by_city.plot(kind='bar', color='skyblue')\n",
    "plt.title(\"Total Revenue per City\")\n",
    "plt.ylabel(\"Revenue\")\n",
    "plt.xlabel(\"City\")\n",
    "plt.xticks(rotation=45)\n",
    "plt.tight_layout()\n",
    "plt.show()"
   ]
  },
  {
   "cell_type": "markdown",
   "id": "f4e65282",
   "metadata": {},
   "source": [
    "## Revenue Distribution — Histogram"
   ]
  },
  {
   "cell_type": "code",
   "execution_count": 7,
   "id": "d905e0ca",
   "metadata": {},
   "outputs": [
    {
     "data": {
      "image/png": "[encoded data removed]",
      "text/plain": [
       "<Figure size 800x400 with 1 Axes>"
      ]
     },
     "metadata": {},
     "output_type": "display_data"
    }
   ],
   "source": [
    "# Plot distribution of transaction-level revenue\n",
    "plt.figure(figsize=(8, 4))\n",
    "sns.histplot(sales['Revenue'], bins=30, kde=True)\n",
    "plt.title(\"Revenue Distribution\")\n",
    "plt.xlabel(\"Revenue\")\n",
    "plt.ylabel(\"Frequency\")\n",
    "plt.tight_layout()\n",
    "plt.show()"
   ]
  },
  {
   "cell_type": "markdown",
   "id": "a0c3ee90",
   "metadata": {},
   "source": [
    "## Quantity Sold — Boxplot"
   ]
  },
  {
   "cell_type": "code",
   "execution_count": 8,
   "id": "d2b3ef1d",
   "metadata": {},
   "outputs": [
    {
     "data": {
      "image/png": "[encoded data removed]",
      "text/plain": [
       "<Figure size 800x200 with 1 Axes>"
      ]
     },
     "metadata": {},
     "output_type": "display_data"
    }
   ],
   "source": [
    "# Boxplot to detect outliers in quantity sold\n",
    "plt.figure(figsize=(8, 2))\n",
    "sns.boxplot(x=sales['QtySold'])\n",
    "plt.title(\"Boxplot of Quantity Sold\")\n",
    "plt.tight_layout()\n",
    "plt.show()"
   ]
  },
  {
   "cell_type": "markdown",
   "id": "f4a22588",
   "metadata": {},
   "source": [
    "## Top 10 Products by Total Revenue — Bar Chart"
   ]
  },
  {
   "cell_type": "code",
   "execution_count": 9,
   "id": "53e49237",
   "metadata": {},
   "outputs": [
    {
     "data": {
      "image/png": "[encoded data removed]",
      "text/plain": [
       "<Figure size 1000x500 with 1 Axes>"
      ]
     },
     "metadata": {},
     "output_type": "display_data"
    }
   ],
   "source": [
    "# Total revenue per product\n",
    "top_products = sales.groupby('ProductID')['Revenue'].sum().sort_values(ascending=False).head(10)\n",
    "\n",
    "plt.figure(figsize=(10, 5))\n",
    "top_products.plot(kind='bar')\n",
    "plt.title(\"Top 10 Products by Revenue\")\n",
    "plt.ylabel(\"Total Revenue\")\n",
    "plt.xlabel(\"Product ID\")\n",
    "plt.xticks(rotation=0)\n",
    "plt.tight_layout()\n",
    "plt.show()"
   ]
  },
  {
   "cell_type": "markdown",
   "id": "70273a46",
   "metadata": {},
   "source": [
    "## Sales by Month — Line Chart"
   ]
  },
  {
   "cell_type": "code",
   "execution_count": 10,
   "id": "952728bc",
   "metadata": {},
   "outputs": [
    {
     "data": {
      "image/png": "[encoded data removed]",
      "text/plain": [
       "<Figure size 800x400 with 1 Axes>"
      ]
     },
     "metadata": {},
     "output_type": "display_data"
    }
   ],
   "source": [
    "# Merge sales with calendar to get dates\n",
    "sales_with_dates = sales.merge(calendar, on=\"DateID\")\n",
    "\n",
    "# Aggregate revenue by Month\n",
    "monthly_sales = sales_with_dates.groupby('Month')['Revenue'].sum().sort_index()\n",
    "\n",
    "# Plot\n",
    "plt.figure(figsize=(8, 4))\n",
    "monthly_sales.plot(kind='line', marker='o')\n",
    "plt.title(\"Monthly Revenue Trend\")\n",
    "plt.xlabel(\"Month\")\n",
    "plt.ylabel(\"Total Revenue\")\n",
    "plt.grid(True)\n",
    "plt.tight_layout()\n",
    "plt.show()"
   ]
  }
 ],
 "metadata": {
  "kernelspec": {
   "display_name": "cityretail_venv",
   "language": "python",
   "name": "python3"
  },
  "language_info": {
   "codemirror_mode": {
    "name": "ipython",
    "version": 3
   },
   "file_extension": ".py",
   "mimetype": "text/x-python",
   "name": "python",
   "nbconvert_exporter": "python",
   "pygments_lexer": "ipython3",
   "version": "3.12.6"
  }
 },
 "nbformat": 4,
 "nbformat_minor": 5
}
